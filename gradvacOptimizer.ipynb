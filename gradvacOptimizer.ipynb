{
 "cells": [
  {
   "metadata": {},
   "cell_type": "markdown",
   "source": "# GradVac Optimizer",
   "id": "565d4ad1ce46af66"
  },
  {
   "metadata": {
    "ExecuteTime": {
     "end_time": "2025-08-27T19:08:16.423870Z",
     "start_time": "2025-08-27T19:08:15.678316Z"
    }
   },
   "cell_type": "code",
   "source": [
    "import torch\n",
    "import torch.nn as nn\n",
    "import torch.nn.functional as F\n",
    "import random"
   ],
   "id": "fac572b7c0e218a0",
   "outputs": [],
   "execution_count": 1
  },
  {
   "metadata": {},
   "cell_type": "markdown",
   "source": "The following implements a multi-task test setup for neural network. Generally a backbone refers to some “base model” of the overall architecture, which can be changed for another one.",
   "id": "c1d6f91b85c36faf"
  },
  {
   "metadata": {
    "ExecuteTime": {
     "end_time": "2025-08-27T19:09:29.875853Z",
     "start_time": "2025-08-27T19:09:29.872315Z"
    }
   },
   "cell_type": "code",
   "source": [
    "class MultiTaskScaffold(nn.Module):\n",
    "    def __init__(self, in_dim=64, hid=64, k1=5, k2=3):\n",
    "        super().__init__()\n",
    "        self.backbone = nn.Sequential(\n",
    "            nn.Linear(in_dim, hid), nn.ReLU(),\n",
    "            nn.Linear(hid, hid), nn.ReLU(),\n",
    "        )\n",
    "        self.head1 = nn.Linear(hid, k1)\n",
    "        self.head2 = nn.Linear(hid, k2)\n",
    "\n",
    "    def forward(self, x):\n",
    "        h = self.backbone(x)\n",
    "        return self.head1(h), self.head2(h)\n",
    "\n",
    "    @staticmethod\n",
    "    def backbone_params(self, model):\n",
    "        # only the shared backbone params\n",
    "        return [p for p in model.backbone.parameters() if p.requires_grad]\n",
    "\n",
    "    @staticmethod\n",
    "    def zero_all_grads(self, model):\n",
    "        for p in model.parameters():\n",
    "            if p.grad is not None:\n",
    "                p.grad.zero_()\n",
    "\n",
    "def backbone_params(model):\n",
    "    return [p for p in model.backbone.parameters() if p.requires_grad]\n",
    "\n",
    "def zero_all_grads(model):\n",
    "    for p in model.parameters():\n",
    "        if p.grad is not None:\n",
    "            p.grad.zero_()\n",
    "\n",
    "def flat_grad(params):\n",
    "    return torch.cat([p.grad.view(-1) for p in\n",
    "                      params if p.grad is not None])\n"
   ],
   "id": "257cb4c533ec4f17",
   "outputs": [],
   "execution_count": 4
  },
  {
   "metadata": {
    "ExecuteTime": {
     "end_time": "2025-08-27T19:14:45.132975Z",
     "start_time": "2025-08-27T19:14:45.129264Z"
    }
   },
   "cell_type": "code",
   "source": [
    "class GradVac:\n",
    "    @staticmethod\n",
    "    def collect_gradients(model, loss1, loss2):\n",
    "        zero_all_grads(model); loss1.backward(retain_graph=True)\n",
    "        g1 = flat_grad(backbone_params(model)).detach()\n",
    "\n",
    "        zero_all_grads(model); loss2.backward(retain_graph=True)\n",
    "        g2 = flat_grad(backbone_params(model)).detach()\n",
    "\n",
    "        return g1, g2\n",
    "\n",
    "    @staticmethod\n",
    "    def norms(g1, g2):\n",
    "        return g1.norm(), g2.norm()\n",
    "\n",
    "    @staticmethod\n",
    "    def cosine(g1, g2, eps=1e-12):\n",
    "        n1, n2 = g1.norm(), g2.norm()\n",
    "        return (g1 @ g2) / (n1 * n2 + eps)\n",
    "\n",
    "    def _unit(v, eps=1e-12):\n",
    "        n = v.norm() + eps\n",
    "        return v / n, n\n",
    "    def gradvac_pair(g1, g2, target=0.0, alpha=0.5):\n",
    "    u1, n1 = _unit(g1)\n",
    "    u2, n2 = _unit(g2)\n",
    "    s = torch.clamp(torch.dot(u1, u2), -1.0, 1.0)\n",
    "    d1 = (u2 - s * u1)\n",
    "    d2 = (u1 - s * u2)\n",
    "\n",
    "    g1_new = g1 + alpha * (target - s) * d1 * n1\n",
    "    g2_new = g2 + alpha * (target - s) * d2 * n2\n",
    "    return g1_new, g2_new"
   ],
   "id": "a6eecdcb7c6fb138",
   "outputs": [],
   "execution_count": 5
  }
 ],
 "metadata": {
  "kernelspec": {
   "display_name": "Python 3",
   "language": "python",
   "name": "python3"
  },
  "language_info": {
   "codemirror_mode": {
    "name": "ipython",
    "version": 2
   },
   "file_extension": ".py",
   "mimetype": "text/x-python",
   "name": "python",
   "nbconvert_exporter": "python",
   "pygments_lexer": "ipython2",
   "version": "2.7.6"
  }
 },
 "nbformat": 4,
 "nbformat_minor": 5
}
